{
  "nbformat": 4,
  "nbformat_minor": 0,
  "metadata": {
    "colab": {
      "name": "Assignment2.ipynb",
      "provenance": [],
      "collapsed_sections": [],
      "authorship_tag": "ABX9TyMCGoLYMXnYk+4sMPGZOiEk",
      "include_colab_link": true
    },
    "kernelspec": {
      "name": "python3",
      "display_name": "Python 3"
    }
  },
  "cells": [
    {
      "cell_type": "markdown",
      "metadata": {
        "id": "view-in-github",
        "colab_type": "text"
      },
      "source": [
        "<a href=\"https://colab.research.google.com/github/Sreenivas177s/PythonTryOuts/blob/master/Assignment2.ipynb\" target=\"_parent\"><img src=\"https://colab.research.google.com/assets/colab-badge.svg\" alt=\"Open In Colab\"/></a>"
      ]
    },
    {
      "cell_type": "markdown",
      "metadata": {
        "id": "F7FGZE3cwrwV",
        "colab_type": "text"
      },
      "source": [
        "**Task 1**"
      ]
    },
    {
      "cell_type": "code",
      "metadata": {
        "id": "G1lCHylje2pY",
        "colab_type": "code",
        "colab": {
          "base_uri": "https://localhost:8080/",
          "height": 34
        },
        "outputId": "dd8f6388-ecf3-4e32-e171-1f65b62c143d"
      },
      "source": [
        "#1.1\n",
        "def subtract(a,b): return a-b\n",
        "def myReduce(func,input_list):\n",
        "    temp = input_list[0]\n",
        "    for i in input_list[1:]:\n",
        "        temp = func(temp,i)\n",
        "    print(temp)\n",
        "myReduce(subtract , [100,9,8,7,6,4])"
      ],
      "execution_count": 1,
      "outputs": [
        {
          "output_type": "stream",
          "text": [
            "66\n"
          ],
          "name": "stdout"
        }
      ]
    },
    {
      "cell_type": "code",
      "metadata": {
        "id": "II-XO1uEiqGT",
        "colab_type": "code",
        "colab": {
          "base_uri": "https://localhost:8080/",
          "height": 34
        },
        "outputId": "1c9c9ffc-cb4e-4e27-a19b-e1080cc3e418"
      },
      "source": [
        "#1.2\n",
        "def isMultipleOf7(a):\n",
        "    if a%7 != 0:\n",
        "        return False\n",
        "    else:\n",
        "        return True\n",
        "\n",
        "def myFilter(condition , input):\n",
        "    for i in input:\n",
        "        if  condition(i):\n",
        "            input.remove(i)\n",
        "    return input\n",
        "print(myFilter(isMultipleOf7 , [1,2,3,4,7,8,9,14]))"
      ],
      "execution_count": 2,
      "outputs": [
        {
          "output_type": "stream",
          "text": [
            "[1, 2, 3, 4, 8, 9]\n"
          ],
          "name": "stdout"
        }
      ]
    },
    {
      "cell_type": "code",
      "metadata": {
        "id": "pUJx40hFpfBq",
        "colab_type": "code",
        "colab": {
          "base_uri": "https://localhost:8080/",
          "height": 118
        },
        "outputId": "a3278293-b9eb-4b77-cb8b-539ab603c211"
      },
      "source": [
        "#2.1\n",
        "word = \"ACADGLID\"\n",
        "output = [i for i in word]\n",
        "print(output)\n",
        "\n",
        "#2.2\n",
        "word1 = \"xyz\"\n",
        "output1 = [j*num for j in word1 for num in range(1,5)]\n",
        "print(output1)\n",
        "\n",
        "#2.3\n",
        "output3 = [i*num for num in range(1,5) for i in word1]\n",
        "print(output3)\n",
        "\n",
        "#2.4\n",
        "output4 = [[i+num] for i in range(2,5) for num in range(0,3)]\n",
        "print(output4)\n",
        "\n",
        "#2.5\n",
        "output4 = [[i+num for num in range(0,4)] for i in range(2,6)]\n",
        "print(output4)\n",
        "\n",
        "#2.6\n",
        "output5 = [(j,i) for i in range(1,4) for j in range(1,4)]\n",
        "print(output5)"
      ],
      "execution_count": 14,
      "outputs": [
        {
          "output_type": "stream",
          "text": [
            "['A', 'C', 'A', 'D', 'G', 'L', 'I', 'D']\n",
            "['x', 'xx', 'xxx', 'xxxx', 'y', 'yy', 'yyy', 'yyyy', 'z', 'zz', 'zzz', 'zzzz']\n",
            "['x', 'y', 'z', 'xx', 'yy', 'zz', 'xxx', 'yyy', 'zzz', 'xxxx', 'yyyy', 'zzzz']\n",
            "[[2], [3], [4], [3], [4], [5], [4], [5], [6]]\n",
            "[[2, 3, 4, 5], [3, 4, 5, 6], [4, 5, 6, 7], [5, 6, 7, 8]]\n",
            "[(1, 1), (2, 1), (3, 1), (1, 2), (2, 2), (3, 2), (1, 3), (2, 3), (3, 3)]\n"
          ],
          "name": "stdout"
        }
      ]
    },
    {
      "cell_type": "code",
      "metadata": {
        "id": "SVXfH-cRpfJc",
        "colab_type": "code",
        "colab": {
          "base_uri": "https://localhost:8080/",
          "height": 50
        },
        "outputId": "e25a3178-8312-4826-e4bd-c4ba93a00bf6"
      },
      "source": [
        "#3\n",
        "def  longestWord(l):\n",
        "    max = l[0]\n",
        "    for i in l:\n",
        "        if len(i) > len(max):\n",
        "            max = i\n",
        "    print(\"the Largest Word is :\",max)\n",
        "l = input(\"enter the list of words:\\t\").split()\n",
        "longestWord(l)"
      ],
      "execution_count": 15,
      "outputs": [
        {
          "output_type": "stream",
          "text": [
            "enter the list of words:\ta aa aaa aaasdasdwdsad\n",
            "the Largest Word is : aaasdasdwdsad\n"
          ],
          "name": "stdout"
        }
      ]
    },
    {
      "cell_type": "markdown",
      "metadata": {
        "id": "CTQaLyaaw2n0",
        "colab_type": "text"
      },
      "source": [
        "**Task 2**"
      ]
    },
    {
      "cell_type": "code",
      "metadata": {
        "id": "4I8eA5C_pfM2",
        "colab_type": "code",
        "colab": {}
      },
      "source": [
        ""
      ],
      "execution_count": 0,
      "outputs": []
    },
    {
      "cell_type": "code",
      "metadata": {
        "id": "gJJo2xbdpfQK",
        "colab_type": "code",
        "colab": {}
      },
      "source": [
        ""
      ],
      "execution_count": 0,
      "outputs": []
    },
    {
      "cell_type": "code",
      "metadata": {
        "id": "u4jls6XupfTb",
        "colab_type": "code",
        "colab": {}
      },
      "source": [
        ""
      ],
      "execution_count": 0,
      "outputs": []
    },
    {
      "cell_type": "code",
      "metadata": {
        "id": "J9KkYX1hpfV7",
        "colab_type": "code",
        "colab": {}
      },
      "source": [
        ""
      ],
      "execution_count": 0,
      "outputs": []
    },
    {
      "cell_type": "code",
      "metadata": {
        "id": "4s9zSpqjpfYq",
        "colab_type": "code",
        "colab": {}
      },
      "source": [
        ""
      ],
      "execution_count": 0,
      "outputs": []
    }
  ]
}