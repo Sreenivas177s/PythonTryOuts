{
 "cells": [
  {
   "cell_type": "code",
   "execution_count": 8,
   "metadata": {},
   "outputs": [
    {
     "name": "stdout",
     "output_type": "stream",
     "text": [
      "2007,2014,2021,2028,2042,2049,2056,2063,2077,2084,2091,2098,2112,2119,2126,2133,2147,2154,2161,2168,2182,2189,2196,2203,2217,2224,2231,2238,2252,2259,2266,2273,2287,2294,2301,2308,2322,2329,2336,2343,2357,2364,2371,2378,2392,2399,2406,2413,2427,2434,2441,2448,2462,2469,2476,2483,2497,2504,2511,2518,2532,2539,2546,2553,2567,2574,2581,2588,2602,2609,2616,2623,2637,2644,2651,2658,2672,2679,2686,2693,2707,2714,2721,2728,2742,2749,2756,2763,2777,2784,2791,2798,2812,2819,2826,2833,2847,2854,2861,2868,2882,2889,2896,2903,2917,2924,2931,2938,2952,2959,2966,2973,2987,2994,3001,3008,3022,3029,3036,3043,3057,3064,3071,3078,3092,3099,3106,3113,3127,3134,3141,3148,3162,3169,3176,3183,3197\n"
     ]
    }
   ],
   "source": [
    "#Task 1\n",
    "#2.\n",
    "n = 2000\n",
    "r = \"\"\n",
    "for i in range(n,3201,7):\n",
    "    if i%5 !=0 and i !=3200 :\n",
    "        r = r + \",\" + str(i)\n",
    "print(r[1:])"
   ]
  },
  {
   "cell_type": "code",
   "execution_count": 12,
   "metadata": {},
   "outputs": [
    {
     "name": "stdout",
     "output_type": "stream",
     "text": [
      "enter the first name and last nameSreenivas Gunasekaran\n",
      "Gunasekaran Sreenivas\n"
     ]
    }
   ],
   "source": [
    "#3. \n",
    "l = input(\"enter the first name and last name\").split()\n",
    "print(l[1]+\" \"+l[0])"
   ]
  },
  {
   "cell_type": "code",
   "execution_count": 10,
   "metadata": {
    "scrolled": true
   },
   "outputs": [
    {
     "name": "stdout",
     "output_type": "stream",
     "text": [
      "volume of the sphere is 7234.5599999999995\n"
     ]
    }
   ],
   "source": [
    "#4.\n",
    "volume = (4/3)*3.14*(12)**3\n",
    "print(\"volume of the sphere is\",volume)"
   ]
  },
  {
   "cell_type": "code",
   "execution_count": 13,
   "metadata": {},
   "outputs": [
    {
     "name": "stdout",
     "output_type": "stream",
     "text": [
      "Enter the sequence of numbers1,2,3,4,5,6,7,8,9,0\n"
     ]
    },
    {
     "data": {
      "text/plain": [
       "['1', '2', '3', '4', '5', '6', '7', '8', '9', '0']"
      ]
     },
     "execution_count": 13,
     "metadata": {},
     "output_type": "execute_result"
    }
   ],
   "source": [
    "#Task-2\n",
    "#1.\n",
    "num = input(\"Enter the sequence of numbers\").split(',')\n",
    "num"
   ]
  },
  {
   "cell_type": "code",
   "execution_count": 14,
   "metadata": {},
   "outputs": [
    {
     "name": "stdout",
     "output_type": "stream",
     "text": [
      "\n",
      "*\n",
      "**\n",
      "***\n",
      "****\n",
      "*****\n",
      "******\n",
      "*****\n",
      "****\n",
      "***\n",
      "**\n",
      "*\n"
     ]
    }
   ],
   "source": [
    "#2.\n",
    "for i in range(0,6):\n",
    "    print(\"*\" * i)\n",
    "    if i == 5:\n",
    "        for z in range(6,0,-1):\n",
    "            print(\"*\" * z)"
   ]
  },
  {
   "cell_type": "code",
   "execution_count": 15,
   "metadata": {},
   "outputs": [
    {
     "name": "stdout",
     "output_type": "stream",
     "text": [
      "enter the stringPython\n",
      "nohtyP\n"
     ]
    }
   ],
   "source": [
    "a = input(\"enter the string\")\n",
    "print(a[::-1])"
   ]
  },
  {
   "cell_type": "code",
   "execution_count": 55,
   "metadata": {},
   "outputs": [
    {
     "name": "stdout",
     "output_type": "stream",
     "text": [
      "WE, THE PEOPLE OF INDIA,\n",
      "\thaving solemnly resolved to constitute india into a SOVEREIGN,!\n",
      "\t\tSOCIALIST,SECULAR,DEMOCRATIC REPUBLIC\n",
      "\t\t\tand to secure to all its citizens\n"
     ]
    }
   ],
   "source": [
    "s = 'WE, THE PEOPLE OF INDIA,\\n\\thaving solemnly resolved to constitute india into a SOVEREIGN,!\\n\\t\\tSOCIALIST,SECULAR,DEMOCRATIC REPUBLIC\\n\\t\\t\\tand to secure to all its citizens'\n",
    "print(s)"
   ]
  },
  {
   "cell_type": "code",
   "execution_count": null,
   "metadata": {},
   "outputs": [],
   "source": []
  }
 ],
 "metadata": {
  "kernelspec": {
   "display_name": "Python 3",
   "language": "python",
   "name": "python3"
  },
  "language_info": {
   "codemirror_mode": {
    "name": "ipython",
    "version": 3
   },
   "file_extension": ".py",
   "mimetype": "text/x-python",
   "name": "python",
   "nbconvert_exporter": "python",
   "pygments_lexer": "ipython3",
   "version": "3.7.3"
  }
 },
 "nbformat": 4,
 "nbformat_minor": 2
}
